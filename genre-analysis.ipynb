{
 "metadata": {
  "language_info": {
   "codemirror_mode": {
    "name": "ipython",
    "version": 3
   },
   "file_extension": ".py",
   "mimetype": "text/x-python",
   "name": "python",
   "nbconvert_exporter": "python",
   "pygments_lexer": "ipython3",
   "version": "3.8.5-final"
  },
  "orig_nbformat": 2,
  "kernelspec": {
   "name": "python38232bit2ff73f98e99c4ba191a83a85ee8f9a60",
   "display_name": "Python 3.8.2 32-bit"
  }
 },
 "nbformat": 4,
 "nbformat_minor": 2,
 "cells": [
  {
   "cell_type": "code",
   "execution_count": 2,
   "metadata": {},
   "outputs": [],
   "source": [
    "from utils import *\n",
    "import pandas as pd \n",
    "import numpy as np \n",
    "from statistics import mode"
   ]
  },
  {
   "cell_type": "code",
   "execution_count": 3,
   "metadata": {},
   "outputs": [],
   "source": [
    "#Authentification  for Spotify API\n",
    "sp, spt , spp = credentials()\n",
    "\n",
    "#Extract the ids of User's Saved Tracks\n",
    "track_ids = get_saved_song_ids(spt,sp)\n",
    "\n",
    "#Extract the features of User's Saved Tracks\n",
    "features = get_features_saved_songs(track_ids,sp)"
   ]
  },
  {
   "cell_type": "code",
   "execution_count": null,
   "metadata": {},
   "outputs": [],
   "source": [
    "#In case you want to extract tracks from any  playlist\n",
    "#track_ids_playlist = get_saved_song_ids(spt,sp,playlist_id = 'playlist_id', is_playlist=True)\n",
    "#features = get_features_saved_songs(track_ids_playlist,sp)"
   ]
  },
  {
   "cell_type": "code",
   "execution_count": 5,
   "metadata": {},
   "outputs": [
    {
     "output_type": "execute_result",
     "data": {
      "text/plain": [
       "                         id                                    name  \\\n",
       "0    6Rkp6fEsvOTR7YxsW5uNyR                    My Friend the Forest   \n",
       "1    7kxnqBmbFilmSlYdDB6aBz          Moving Men - Bob Sinclar Remix   \n",
       "2    11ajcVj3qSyyMPUpTJUP3y                        Protect The Land   \n",
       "3    1hM3r9AKtL3XZwPqRHcCMG                        Entre Mis Brazos   \n",
       "4    05QhG4JOkDSPh4OsUCAUvM                 Sentada Aqui En Mi Alma   \n",
       "..                      ...                                     ...   \n",
       "218  1KcOU0q9AMXV9xi4tSzzCc                  Posthumous Forgiveness   \n",
       "219  1s7fF5rM9oJmfpkK4OF8tu                              Never Fade   \n",
       "220  5n5K6czwgPvZQpMTJVZ03O                                Shock Me   \n",
       "221  2Q7xYxV504kca2EYXOrMJx                                  Healer   \n",
       "222  0U0p8weaMIbIFMJ0CPlvHV  Sprawl II (Mountains Beyond Mountains)   \n",
       "\n",
       "                                      album            artist  \n",
       "0                  Tripping with Nils Frahm        Nils Frahm  \n",
       "1            Moving Men (Bob Sinclar Remix)               Myd  \n",
       "2    Protect The Land / Genocidal Humanoidz  System Of A Down  \n",
       "3                               Los Bunkers       Los Bunkers  \n",
       "4                                   Sincero          Chayanne  \n",
       "..                                      ...               ...  \n",
       "218                           The Slow Rush       Tame Impala  \n",
       "219                             Rainier Fog   Alice In Chains  \n",
       "220                                  Purple          Baroness  \n",
       "221                             Meanderthal            Torche  \n",
       "222                             The Suburbs       Arcade Fire  \n",
       "\n",
       "[223 rows x 4 columns]"
      ],
      "text/html": "<div>\n<style scoped>\n    .dataframe tbody tr th:only-of-type {\n        vertical-align: middle;\n    }\n\n    .dataframe tbody tr th {\n        vertical-align: top;\n    }\n\n    .dataframe thead th {\n        text-align: right;\n    }\n</style>\n<table border=\"1\" class=\"dataframe\">\n  <thead>\n    <tr style=\"text-align: right;\">\n      <th></th>\n      <th>id</th>\n      <th>name</th>\n      <th>album</th>\n      <th>artist</th>\n    </tr>\n  </thead>\n  <tbody>\n    <tr>\n      <th>0</th>\n      <td>6Rkp6fEsvOTR7YxsW5uNyR</td>\n      <td>My Friend the Forest</td>\n      <td>Tripping with Nils Frahm</td>\n      <td>Nils Frahm</td>\n    </tr>\n    <tr>\n      <th>1</th>\n      <td>7kxnqBmbFilmSlYdDB6aBz</td>\n      <td>Moving Men - Bob Sinclar Remix</td>\n      <td>Moving Men (Bob Sinclar Remix)</td>\n      <td>Myd</td>\n    </tr>\n    <tr>\n      <th>2</th>\n      <td>11ajcVj3qSyyMPUpTJUP3y</td>\n      <td>Protect The Land</td>\n      <td>Protect The Land / Genocidal Humanoidz</td>\n      <td>System Of A Down</td>\n    </tr>\n    <tr>\n      <th>3</th>\n      <td>1hM3r9AKtL3XZwPqRHcCMG</td>\n      <td>Entre Mis Brazos</td>\n      <td>Los Bunkers</td>\n      <td>Los Bunkers</td>\n    </tr>\n    <tr>\n      <th>4</th>\n      <td>05QhG4JOkDSPh4OsUCAUvM</td>\n      <td>Sentada Aqui En Mi Alma</td>\n      <td>Sincero</td>\n      <td>Chayanne</td>\n    </tr>\n    <tr>\n      <th>...</th>\n      <td>...</td>\n      <td>...</td>\n      <td>...</td>\n      <td>...</td>\n    </tr>\n    <tr>\n      <th>218</th>\n      <td>1KcOU0q9AMXV9xi4tSzzCc</td>\n      <td>Posthumous Forgiveness</td>\n      <td>The Slow Rush</td>\n      <td>Tame Impala</td>\n    </tr>\n    <tr>\n      <th>219</th>\n      <td>1s7fF5rM9oJmfpkK4OF8tu</td>\n      <td>Never Fade</td>\n      <td>Rainier Fog</td>\n      <td>Alice In Chains</td>\n    </tr>\n    <tr>\n      <th>220</th>\n      <td>5n5K6czwgPvZQpMTJVZ03O</td>\n      <td>Shock Me</td>\n      <td>Purple</td>\n      <td>Baroness</td>\n    </tr>\n    <tr>\n      <th>221</th>\n      <td>2Q7xYxV504kca2EYXOrMJx</td>\n      <td>Healer</td>\n      <td>Meanderthal</td>\n      <td>Torche</td>\n    </tr>\n    <tr>\n      <th>222</th>\n      <td>0U0p8weaMIbIFMJ0CPlvHV</td>\n      <td>Sprawl II (Mountains Beyond Mountains)</td>\n      <td>The Suburbs</td>\n      <td>Arcade Fire</td>\n    </tr>\n  </tbody>\n</table>\n<p>223 rows × 4 columns</p>\n</div>"
     },
     "metadata": {},
     "execution_count": 5
    }
   ],
   "source": [
    "#Save the results into a DataFrame\n",
    "df = pd.DataFrame(features)\n",
    "df"
   ]
  },
  {
   "cell_type": "code",
   "execution_count": 7,
   "metadata": {},
   "outputs": [
    {
     "output_type": "stream",
     "name": "stdout",
     "text": [
      "Process Finished!\n"
     ]
    },
    {
     "output_type": "execute_result",
     "data": {
      "text/plain": [
       "                         id                                    name  \\\n",
       "0    6Rkp6fEsvOTR7YxsW5uNyR                    My Friend the Forest   \n",
       "1    7kxnqBmbFilmSlYdDB6aBz          Moving Men - Bob Sinclar Remix   \n",
       "2    11ajcVj3qSyyMPUpTJUP3y                        Protect The Land   \n",
       "3    1hM3r9AKtL3XZwPqRHcCMG                        Entre Mis Brazos   \n",
       "4    05QhG4JOkDSPh4OsUCAUvM                 Sentada Aqui En Mi Alma   \n",
       "..                      ...                                     ...   \n",
       "218  1KcOU0q9AMXV9xi4tSzzCc                  Posthumous Forgiveness   \n",
       "219  1s7fF5rM9oJmfpkK4OF8tu                              Never Fade   \n",
       "220  5n5K6czwgPvZQpMTJVZ03O                                Shock Me   \n",
       "221  2Q7xYxV504kca2EYXOrMJx                                  Healer   \n",
       "222  0U0p8weaMIbIFMJ0CPlvHV  Sprawl II (Mountains Beyond Mountains)   \n",
       "\n",
       "                                      album            artist  \\\n",
       "0                  Tripping with Nils Frahm        Nils Frahm   \n",
       "1            Moving Men (Bob Sinclar Remix)               Myd   \n",
       "2    Protect The Land / Genocidal Humanoidz  System Of A Down   \n",
       "3                               Los Bunkers       Los Bunkers   \n",
       "4                                   Sincero          Chayanne   \n",
       "..                                      ...               ...   \n",
       "218                           The Slow Rush       Tame Impala   \n",
       "219                             Rainier Fog   Alice In Chains   \n",
       "220                                  Purple          Baroness   \n",
       "221                             Meanderthal            Torche   \n",
       "222                             The Suburbs       Arcade Fire   \n",
       "\n",
       "                                                 genre  \n",
       "0    compositional ambient, electronica, neo-classi...  \n",
       "1    filter house, french indie pop, french indietr...  \n",
       "2         alternative metal, nu metal, rap metal, rock  \n",
       "3    chilean rock, concepcion indie, latin alternat...  \n",
       "4         latin, latin pop, puerto rican pop, tropical  \n",
       "..                                                 ...  \n",
       "218                  australian psych, neo-psychedelic  \n",
       "219  alternative metal, alternative rock, grunge, h...  \n",
       "220  alternative metal, post-doom metal, progressiv...  \n",
       "221  miami metal, post-doom metal, post-hardcore, p...  \n",
       "222  alternative dance, alternative rock, baroque p...  \n",
       "\n",
       "[223 rows x 5 columns]"
      ],
      "text/html": "<div>\n<style scoped>\n    .dataframe tbody tr th:only-of-type {\n        vertical-align: middle;\n    }\n\n    .dataframe tbody tr th {\n        vertical-align: top;\n    }\n\n    .dataframe thead th {\n        text-align: right;\n    }\n</style>\n<table border=\"1\" class=\"dataframe\">\n  <thead>\n    <tr style=\"text-align: right;\">\n      <th></th>\n      <th>id</th>\n      <th>name</th>\n      <th>album</th>\n      <th>artist</th>\n      <th>genre</th>\n    </tr>\n  </thead>\n  <tbody>\n    <tr>\n      <th>0</th>\n      <td>6Rkp6fEsvOTR7YxsW5uNyR</td>\n      <td>My Friend the Forest</td>\n      <td>Tripping with Nils Frahm</td>\n      <td>Nils Frahm</td>\n      <td>compositional ambient, electronica, neo-classi...</td>\n    </tr>\n    <tr>\n      <th>1</th>\n      <td>7kxnqBmbFilmSlYdDB6aBz</td>\n      <td>Moving Men - Bob Sinclar Remix</td>\n      <td>Moving Men (Bob Sinclar Remix)</td>\n      <td>Myd</td>\n      <td>filter house, french indie pop, french indietr...</td>\n    </tr>\n    <tr>\n      <th>2</th>\n      <td>11ajcVj3qSyyMPUpTJUP3y</td>\n      <td>Protect The Land</td>\n      <td>Protect The Land / Genocidal Humanoidz</td>\n      <td>System Of A Down</td>\n      <td>alternative metal, nu metal, rap metal, rock</td>\n    </tr>\n    <tr>\n      <th>3</th>\n      <td>1hM3r9AKtL3XZwPqRHcCMG</td>\n      <td>Entre Mis Brazos</td>\n      <td>Los Bunkers</td>\n      <td>Los Bunkers</td>\n      <td>chilean rock, concepcion indie, latin alternat...</td>\n    </tr>\n    <tr>\n      <th>4</th>\n      <td>05QhG4JOkDSPh4OsUCAUvM</td>\n      <td>Sentada Aqui En Mi Alma</td>\n      <td>Sincero</td>\n      <td>Chayanne</td>\n      <td>latin, latin pop, puerto rican pop, tropical</td>\n    </tr>\n    <tr>\n      <th>...</th>\n      <td>...</td>\n      <td>...</td>\n      <td>...</td>\n      <td>...</td>\n      <td>...</td>\n    </tr>\n    <tr>\n      <th>218</th>\n      <td>1KcOU0q9AMXV9xi4tSzzCc</td>\n      <td>Posthumous Forgiveness</td>\n      <td>The Slow Rush</td>\n      <td>Tame Impala</td>\n      <td>australian psych, neo-psychedelic</td>\n    </tr>\n    <tr>\n      <th>219</th>\n      <td>1s7fF5rM9oJmfpkK4OF8tu</td>\n      <td>Never Fade</td>\n      <td>Rainier Fog</td>\n      <td>Alice In Chains</td>\n      <td>alternative metal, alternative rock, grunge, h...</td>\n    </tr>\n    <tr>\n      <th>220</th>\n      <td>5n5K6czwgPvZQpMTJVZ03O</td>\n      <td>Shock Me</td>\n      <td>Purple</td>\n      <td>Baroness</td>\n      <td>alternative metal, post-doom metal, progressiv...</td>\n    </tr>\n    <tr>\n      <th>221</th>\n      <td>2Q7xYxV504kca2EYXOrMJx</td>\n      <td>Healer</td>\n      <td>Meanderthal</td>\n      <td>Torche</td>\n      <td>miami metal, post-doom metal, post-hardcore, p...</td>\n    </tr>\n    <tr>\n      <th>222</th>\n      <td>0U0p8weaMIbIFMJ0CPlvHV</td>\n      <td>Sprawl II (Mountains Beyond Mountains)</td>\n      <td>The Suburbs</td>\n      <td>Arcade Fire</td>\n      <td>alternative dance, alternative rock, baroque p...</td>\n    </tr>\n  </tbody>\n</table>\n<p>223 rows × 5 columns</p>\n</div>"
     },
     "metadata": {},
     "execution_count": 7
    }
   ],
   "source": [
    "#Find the music genres from each song on the dataframe\n",
    "df = finding_music_genre_on_spotify(df,sp)\n",
    "df"
   ]
  },
  {
   "cell_type": "code",
   "execution_count": null,
   "metadata": {},
   "outputs": [],
   "source": [
    "#Use this function in case you don't find all the genres for tracks using the Spotify API\n",
    "#df = find_music_genre_on_wikipedia(df)"
   ]
  },
  {
   "cell_type": "code",
   "execution_count": 12,
   "metadata": {},
   "outputs": [],
   "source": [
    "#Save the dataframe for whatever kind of problem\n",
    "df.to_csv('tracks.csv',index=False)"
   ]
  },
  {
   "cell_type": "code",
   "execution_count": 13,
   "metadata": {},
   "outputs": [],
   "source": [
    "#Script to replace \"null values\" with  music genre of  the same artist or  same album in case exists on dataframe\n",
    "\n",
    "artists = df.artist.unique().tolist()\n",
    "albums = df.album.unique().tolist()\n",
    "for album in albums:\n",
    "    temp_df = df[df.album.isin([album])]\n",
    "    for i in temp_df.index:\n",
    "        if df.genre.iloc[i] == 'no information':\n",
    "            df.genre.iloc[i] = mode(temp_df.genre.tolist())\n",
    "\n",
    "for artist in artists:\n",
    "    temp_df = df[df.artist.isin([artist])]\n",
    "    for i in temp_df.index:\n",
    "        if df.genre.iloc[i] == 'no information':\n",
    "            df.genre.iloc[i] = mode(temp_df.genre.tolist())"
   ]
  },
  {
   "cell_type": "code",
   "execution_count": 23,
   "metadata": {},
   "outputs": [],
   "source": [
    "#The ids of my target playlists (Playlists the I created on my Spotify User)\n",
    "rock_playlist_id = '0Dc8VWYCL52AR3l816Yq0F'\n",
    "metal_playlist_id = '7rvDjvhCXTS1bOdaDqY9BN'\n",
    "pop_playlist_id = '7rff0sxjfg9cM4ShsnwOHW'\n",
    "chill_playlist_id = '6259g0qo3cbJ1pINyfpP9b'\n",
    "\n",
    "#The username id of your Spotify Account (Defined on utils.py script)\n",
    "username = 'your_username_id'\n",
    "\n",
    "\"\"\"function to add music to playlist by genre \n",
    "\n",
    "¡¡IMPORTANT!! after adding the tracks to the playlist, the track information of the   dataframe  will be delete to do not duplicate tracks for other playlists  \n",
    "\n",
    "¡¡ALSO IMPORTANT!! you must to change to \"make public\" the preferences on your spotify playlist \n",
    "\"\"\"\n",
    "def add_music_to_playlist_by_genre(df,username,genre,playlist_id,spp):\n",
    "\n",
    "    df_ids = df['id'][df.genre.str.contains(genre)].tolist()\n",
    "    df_index = df[df.genre.str.contains(genre)].index.tolist()\n",
    "    df = df.drop(df_index,axis=0).reset_index(drop=True)\n",
    "\n",
    "\n",
    "    #Add music to target playlist \n",
    "    spp.user_playlist_add_tracks(username,playlist_id=playlist_id,tracks=df_ids)\n",
    "\n",
    "    print(\"Music Added to playlist!\")\n",
    "\n",
    "    return df "
   ]
  },
  {
   "cell_type": "code",
   "execution_count": 20,
   "metadata": {},
   "outputs": [
    {
     "output_type": "stream",
     "name": "stdout",
     "text": [
      "Music Added to playlist!\n"
     ]
    }
   ],
   "source": [
    "#Adding Metalcore Tracks to Metal Playlist\n",
    "df = add_music_to_playlist_by_genre(df,username,'metalcore',metal_playlist_id,spp)"
   ]
  },
  {
   "cell_type": "code",
   "execution_count": 28,
   "metadata": {},
   "outputs": [
    {
     "output_type": "stream",
     "name": "stdout",
     "text": [
      "Music Added to playlist!\n"
     ]
    }
   ],
   "source": [
    "#Adding Art Rock Tracks to Rock Playlist\n",
    "df = add_music_to_playlist_by_genre(df,username,'art rock',rock_playlist_id,spp)"
   ]
  },
  {
   "cell_type": "code",
   "execution_count": 32,
   "metadata": {},
   "outputs": [
    {
     "output_type": "stream",
     "name": "stdout",
     "text": [
      "Music Added to playlist!\n"
     ]
    }
   ],
   "source": [
    "#Adding Ambient Tracks to Chill Playlist\n",
    "df = add_music_to_playlist_by_genre(df,username,'ambient',chill_playlist_id,spp)"
   ]
  }
 ]
}